{
  "nbformat": 4,
  "nbformat_minor": 0,
  "metadata": {
    "colab": {
      "provenance": []
    },
    "kernelspec": {
      "name": "python3",
      "display_name": "Python 3"
    },
    "language_info": {
      "name": "python"
    }
  },
  "cells": [
    {
      "cell_type": "code",
      "execution_count": null,
      "metadata": {
        "id": "6N5R_RhJ54rR"
      },
      "outputs": [],
      "source": [
        "pip install --upgrade transformers\n"
      ]
    },
    {
      "cell_type": "code",
      "source": [
        "import transformers\n",
        "transformers.__version__"
      ],
      "metadata": {
        "colab": {
          "base_uri": "https://localhost:8080/",
          "height": 35
        },
        "id": "LZ7gX2UU6HkV",
        "outputId": "312598df-f513-4296-a126-8a77c51db2b1"
      },
      "execution_count": 1,
      "outputs": [
        {
          "output_type": "execute_result",
          "data": {
            "text/plain": [
              "'4.41.2'"
            ],
            "application/vnd.google.colaboratory.intrinsic+json": {
              "type": "string"
            }
          },
          "metadata": {},
          "execution_count": 1
        }
      ]
    },
    {
      "cell_type": "code",
      "source": [
        "!pip install -U \"tensorflow-text==2.15.*\"\n",
        "!pip install -U \"tf-models-official==2.15.*\"\n",
        "!pip install -U \"tensorflow==2.15\"\n",
        "!pip install -U \"tensorflow_hub==0.15.*\""
      ],
      "metadata": {
        "id": "bHfpnT6eEKry"
      },
      "execution_count": null,
      "outputs": []
    },
    {
      "cell_type": "code",
      "source": [
        "!pip install --upgrade tensorflow_hub tensorflow_text"
      ],
      "metadata": {
        "id": "cl74DRu_6VqC"
      },
      "execution_count": null,
      "outputs": []
    },
    {
      "cell_type": "code",
      "source": [
        "import tensorflow_hub as hub\n",
        "import tensorflow_text"
      ],
      "metadata": {
        "id": "-IuvncFd6VmZ"
      },
      "execution_count": 1,
      "outputs": []
    },
    {
      "cell_type": "code",
      "source": [
        "import tensorflow as tf"
      ],
      "metadata": {
        "id": "B7XBjEQF6ViQ"
      },
      "execution_count": 2,
      "outputs": []
    },
    {
      "cell_type": "code",
      "source": [
        "print(hub.__version__)\n"
      ],
      "metadata": {
        "colab": {
          "base_uri": "https://localhost:8080/"
        },
        "id": "_rdaVsCaAcfY",
        "outputId": "0e3a1780-4b3f-4e3b-afb2-d3b75282c286"
      },
      "execution_count": 3,
      "outputs": [
        {
          "output_type": "stream",
          "name": "stdout",
          "text": [
            "0.15.0\n"
          ]
        }
      ]
    },
    {
      "cell_type": "code",
      "source": [
        "print(tf.__version__)"
      ],
      "metadata": {
        "colab": {
          "base_uri": "https://localhost:8080/"
        },
        "id": "P_bfNYHjAz8a",
        "outputId": "8f07273f-b7d9-4082-b2a2-c27107faf7ba"
      },
      "execution_count": 4,
      "outputs": [
        {
          "output_type": "stream",
          "name": "stdout",
          "text": [
            "2.15.0\n"
          ]
        }
      ]
    },
    {
      "cell_type": "code",
      "source": [
        "print(tf.config.list_physical_devices())"
      ],
      "metadata": {
        "colab": {
          "base_uri": "https://localhost:8080/"
        },
        "id": "hgdoKO-CHXvF",
        "outputId": "9afd3d38-1c45-4516-b8cb-5407051efc78"
      },
      "execution_count": 44,
      "outputs": [
        {
          "output_type": "stream",
          "name": "stdout",
          "text": [
            "[PhysicalDevice(name='/physical_device:CPU:0', device_type='CPU')]\n"
          ]
        }
      ]
    },
    {
      "cell_type": "code",
      "source": [
        "print(tensorflow_text.__version__ )"
      ],
      "metadata": {
        "colab": {
          "base_uri": "https://localhost:8080/"
        },
        "id": "f9efGJsBHd5W",
        "outputId": "92365c38-8c99-47e3-a802-1a4e4899be08"
      },
      "execution_count": 5,
      "outputs": [
        {
          "output_type": "stream",
          "name": "stdout",
          "text": [
            "2.15.0\n"
          ]
        }
      ]
    },
    {
      "cell_type": "code",
      "source": [
        "# Load BERT preprocessing and encoder models from TensorFlow Hub\n",
        "bert_preprocess_model = \"https://tfhub.dev/tensorflow/bert_en_uncased_preprocess/3\"\n",
        "bert_encoder_model = \"https://tfhub.dev/tensorflow/bert_en_uncased_L-12_H-768_A-12/3\"\n",
        "\n",
        "bert_preprocess = hub.KerasLayer(bert_preprocess_model)\n",
        "bert_encoder = hub.KerasLayer(bert_encoder_model)\n"
      ],
      "metadata": {
        "id": "Jb2U0yvR6VcA"
      },
      "execution_count": 6,
      "outputs": []
    },
    {
      "cell_type": "code",
      "source": [
        "!pip install --upgrade  tf_keras"
      ],
      "metadata": {
        "id": "MgXfbV857zRC"
      },
      "execution_count": null,
      "outputs": []
    },
    {
      "cell_type": "code",
      "source": [],
      "metadata": {
        "id": "iodusqe_7zMI"
      },
      "execution_count": null,
      "outputs": []
    },
    {
      "cell_type": "code",
      "source": [
        "# Define the text input layer\n",
        "text_input = tf.keras.layers.Input(shape=(), dtype=tf.string, name='text')\n",
        "print(text_input)\n",
        "#text = [\"This is a sample sentence.\"]\n",
        "\n",
        "# Preprocess the text input\n",
        "preprocessed_text = bert_preprocess(text_input)\n",
        "\n",
        "# Encode the preprocessed text\n",
        "encoded_text = bert_encoder(preprocessed_text)\n",
        "\n",
        "# Create a Keras model (use the placeholder input here)\n",
        "model = tf.keras.Model(inputs=text_input, outputs=encoded_text)\n"
      ],
      "metadata": {
        "colab": {
          "base_uri": "https://localhost:8080/"
        },
        "id": "umr6MclO7p0y",
        "outputId": "274a519a-49c1-42f4-e407-382250c3b86f"
      },
      "execution_count": 10,
      "outputs": [
        {
          "output_type": "stream",
          "name": "stdout",
          "text": [
            "KerasTensor(type_spec=TensorSpec(shape=(None,), dtype=tf.string, name='text'), name='text', description=\"created by layer 'text'\")\n"
          ]
        }
      ]
    }
  ]
}